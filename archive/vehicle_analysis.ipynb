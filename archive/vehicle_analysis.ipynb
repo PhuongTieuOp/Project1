{
 "cells": [
  {
   "cell_type": "code",
   "execution_count": 1,
   "metadata": {},
   "outputs": [],
   "source": [
    "import numpy as np\n",
    "import pandas as pd\n",
    "import matplotlib.pyplot as plt\n",
    "from datetime import datetime\n",
    "import csv"
   ]
  },
  {
   "cell_type": "code",
   "execution_count": 3,
   "metadata": {},
   "outputs": [
    {
     "name": "stderr",
     "output_type": "stream",
     "text": [
      "c:\\Users\\Dog\\anaconda3\\envs\\bootcamp\\lib\\site-packages\\IPython\\core\\interactiveshell.py:3457: DtypeWarning: Columns (26,27,36,37) have mixed types.Specify dtype option on import or set low_memory=False.\n",
      "  exec(code_obj, self.user_global_ns, self.user_ns)\n"
     ]
    }
   ],
   "source": [
    "#CSV file paths\n",
    "\n",
    "accident_path = \"project_data/accident_df.csv\"\n",
    "vehicle_path = \"project_data/vehicle_path_df.csv\"\n",
    "main_csv_path = \"project_data/proj_accident_main.csv\"\n",
    "\n",
    "\n",
    "#creating dataframes \n",
    "main_df = pd.read_csv(main_csv_path)\n",
    "vehicle_df = pd.read_csv(vehicle_path)\n",
    "accident_df = pd.read_csv(accident_path)\n",
    "\n",
    "\n",
    "#remove first column\n",
    "main_df = main_df.drop(main_df.columns[0], axis=1)\n",
    "vehicle_df = vehicle_df.drop(vehicle_df.columns[0], axis=1)\n",
    "accident_df = accident_df.drop(accident_df.columns[0], axis=1)\n",
    "\n",
    "\n"
   ]
  },
  {
   "cell_type": "code",
   "execution_count": 7,
   "metadata": {},
   "outputs": [],
   "source": [
    "#converting accidentdate column to datetime format, for easier search\n",
    "main_df[\"ACCIDENTDATE\"] = pd.to_datetime(main_df[\"ACCIDENTDATE\"])\n",
    "#main_df[\"Year\"] = main_df[\"ACCIDENTDATE\"].dt.year\n",
    "\n",
    "#creating dataframes for each year's accidents\n",
    "main_2016_df = main_df[main_df[\"ACCIDENTDATE\"].dt.year == 2016]\n",
    "main_2017_df = main_df[main_df[\"ACCIDENTDATE\"].dt.year == 2017]\n",
    "main_2018_df = main_df[main_df[\"ACCIDENTDATE\"].dt.year == 2018]\n",
    "main_2019_df = main_df[main_df[\"ACCIDENTDATE\"].dt.year == 2019]\n",
    "main_2020_df = main_df[main_df[\"ACCIDENTDATE\"].dt.year == 2020]\n",
    "\n",
    "\n",
    "# accident  dataframes based on year\n",
    "accident_2016_df = accident_df[accident_df[\"ACCIDENT_NO\"].isin(main_2016_df[\"ACCIDENT_NO\"])]\n",
    "accident_2017_df = accident_df[accident_df[\"ACCIDENT_NO\"].isin(main_2017_df[\"ACCIDENT_NO\"])]\n",
    "accident_2018_df = accident_df[accident_df[\"ACCIDENT_NO\"].isin(main_2018_df[\"ACCIDENT_NO\"])]\n",
    "accident_2019_df = accident_df[accident_df[\"ACCIDENT_NO\"].isin(main_2019_df[\"ACCIDENT_NO\"])]\n",
    "accident_2020_df = accident_df[accident_df[\"ACCIDENT_NO\"].isin(main_2020_df[\"ACCIDENT_NO\"])]\n",
    "\n",
    "# vehicle  dataframes based on year\n",
    "vehicle_2016_df = vehicle_df[vehicle_df[\"ACCIDENT_NO\"].isin(main_2016_df[\"ACCIDENT_NO\"])]\n",
    "vehicle_2017_df = vehicle_df[vehicle_df[\"ACCIDENT_NO\"].isin(main_2017_df[\"ACCIDENT_NO\"])]\n",
    "vehicle_2018_df = vehicle_df[vehicle_df[\"ACCIDENT_NO\"].isin(main_2018_df[\"ACCIDENT_NO\"])]\n",
    "vehicle_2019_df = vehicle_df[vehicle_df[\"ACCIDENT_NO\"].isin(main_2019_df[\"ACCIDENT_NO\"])]\n",
    "vehicle_2020_df = vehicle_df[vehicle_df[\"ACCIDENT_NO\"].isin(main_2020_df[\"ACCIDENT_NO\"])]\n",
    "\n",
    "\n"
   ]
  },
  {
   "cell_type": "code",
   "execution_count": 45,
   "metadata": {},
   "outputs": [
    {
     "data": {
      "image/png": "[encoded data removed]",
      "text/plain": [
       "<Figure size 432x288 with 1 Axes>"
      ]
     },
     "metadata": {
      "needs_background": "light"
     },
     "output_type": "display_data"
    }
   ],
   "source": [
    "vehicle_2016_df = vehicle_2016_df[[\"ACCIDENT_NO\", \"VEHICLE_BODY_STYLE\", \"VEHICLE_MAKE\", \"VEHICLE_TYPE\"]]\n",
    "makes_2016 = vehicle_2016_df.groupby(\"VEHICLE_MAKE\",as_index=False)[\"ACCIDENT_NO\"].count()\n",
    "makes_2016 = makes_2016.sort_values(by=\"ACCIDENT_NO\", ascending=False)\n",
    "\n",
    "plt.bar(makes_2016[\"VEHICLE_MAKE\"].head(10), makes_2016[\"ACCIDENT_NO\"].head(10), color='g', alpha=1, align=\"center\")\n",
    "plt.xticks(makes_2016[\"VEHICLE_MAKE\"].head(10),makes_2016[\"VEHICLE_MAKE\"].head(10), rotation=\"vertical\")\n",
    "plt.show()\n"
   ]
  },
  {
   "cell_type": "code",
   "execution_count": 43,
   "metadata": {},
   "outputs": [
    {
     "data": {
      "text/html": [
       "<div>\n",
       "<style scoped>\n",
       "    .dataframe tbody tr th:only-of-type {\n",
       "        vertical-align: middle;\n",
       "    }\n",
       "\n",
       "    .dataframe tbody tr th {\n",
       "        vertical-align: top;\n",
       "    }\n",
       "\n",
       "    .dataframe thead th {\n",
       "        text-align: right;\n",
       "    }\n",
       "</style>\n",
       "<table border=\"1\" class=\"dataframe\">\n",
       "  <thead>\n",
       "    <tr style=\"text-align: right;\">\n",
       "      <th></th>\n",
       "      <th>VEHICLE_MAKE</th>\n",
       "      <th>ACCIDENT_NO</th>\n",
       "    </tr>\n",
       "  </thead>\n",
       "  <tbody>\n",
       "    <tr>\n",
       "      <th>197</th>\n",
       "      <td>TOYOTA</td>\n",
       "      <td>4677</td>\n",
       "    </tr>\n",
       "    <tr>\n",
       "      <th>81</th>\n",
       "      <td>HOLDEN</td>\n",
       "      <td>4050</td>\n",
       "    </tr>\n",
       "    <tr>\n",
       "      <th>64</th>\n",
       "      <td>FORD</td>\n",
       "      <td>3204</td>\n",
       "    </tr>\n",
       "    <tr>\n",
       "      <th>143</th>\n",
       "      <td>MAZDA</td>\n",
       "      <td>1517</td>\n",
       "    </tr>\n",
       "    <tr>\n",
       "      <th>157</th>\n",
       "      <td>NISSAN</td>\n",
       "      <td>1490</td>\n",
       "    </tr>\n",
       "    <tr>\n",
       "      <th>...</th>\n",
       "      <td>...</td>\n",
       "      <td>...</td>\n",
       "    </tr>\n",
       "    <tr>\n",
       "      <th>32</th>\n",
       "      <td>CASE</td>\n",
       "      <td>1</td>\n",
       "    </tr>\n",
       "    <tr>\n",
       "      <th>116</th>\n",
       "      <td>KENN</td>\n",
       "      <td>1</td>\n",
       "    </tr>\n",
       "    <tr>\n",
       "      <th>114</th>\n",
       "      <td>KATO</td>\n",
       "      <td>1</td>\n",
       "    </tr>\n",
       "    <tr>\n",
       "      <th>112</th>\n",
       "      <td>JOHNST</td>\n",
       "      <td>1</td>\n",
       "    </tr>\n",
       "    <tr>\n",
       "      <th>220</th>\n",
       "      <td>ZERO</td>\n",
       "      <td>1</td>\n",
       "    </tr>\n",
       "  </tbody>\n",
       "</table>\n",
       "<p>221 rows × 2 columns</p>\n",
       "</div>"
      ],
      "text/plain": [
       "    VEHICLE_MAKE  ACCIDENT_NO\n",
       "197       TOYOTA         4677\n",
       "81        HOLDEN         4050\n",
       "64        FORD           3204\n",
       "143       MAZDA          1517\n",
       "157       NISSAN         1490\n",
       "..           ...          ...\n",
       "32        CASE              1\n",
       "116       KENN              1\n",
       "114       KATO              1\n",
       "112       JOHNST            1\n",
       "220       ZERO              1\n",
       "\n",
       "[221 rows x 2 columns]"
      ]
     },
     "execution_count": 43,
     "metadata": {},
     "output_type": "execute_result"
    }
   ],
   "source": [
    "makes_2016"
   ]
  }
 ],
 "metadata": {
  "kernelspec": {
   "display_name": "Python 3.7.13 ('bootcamp')",
   "language": "python",
   "name": "python3"
  },
  "language_info": {
   "codemirror_mode": {
    "name": "ipython",
    "version": 3
   },
   "file_extension": ".py",
   "mimetype": "text/x-python",
   "name": "python",
   "nbconvert_exporter": "python",
   "pygments_lexer": "ipython3",
   "version": "3.7.13"
  },
  "orig_nbformat": 4,
  "vscode": {
   "interpreter": {
    "hash": "d3c3aa688ac86767ca0cc64da043c6600fa26f66b77c36d09bb4bee152a721f9"
   }
  }
 },
 "nbformat": 4,
 "nbformat_minor": 2
}
