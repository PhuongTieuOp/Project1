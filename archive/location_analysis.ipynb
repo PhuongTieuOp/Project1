{
 "cells": [
  {
   "cell_type": "code",
   "execution_count": 1,
   "metadata": {},
   "outputs": [],
   "source": [
    "import numpy as np\n",
    "import pandas as pd\n",
    "import matplotlib.pyplot as plt\n",
    "from datetime import datetime\n",
    "import csv"
   ]
  },
  {
   "cell_type": "markdown",
   "metadata": {},
   "source": [
    "### Reading CSV data files"
   ]
  },
  {
   "cell_type": "code",
   "execution_count": 147,
   "metadata": {},
   "outputs": [],
   "source": [
    "#CSV file paths\n",
    "\n",
    "accident_path = \"project_data/accident_df.csv\"\n",
    "accident_location_path = \"project_data/accident_location_df.csv\"\n",
    "node_path = \"project_data/node_df.csv\"\n",
    "main_csv_path = \"project_data/proj_accident_main.csv\"\n",
    "\n",
    "\n",
    "#creating dataframes \n",
    "main_df = pd.read_csv(main_csv_path)\n",
    "node_df = pd.read_csv(node_path)\n",
    "accident_df = pd.read_csv(accident_path)\n",
    "accident_location_df = pd.read_csv(accident_location_path)\n",
    "\n",
    "#remove first column\n",
    "main_df = main_df.drop(main_df.columns[0], axis=1)\n",
    "node_df = node_df.drop(node_df.columns[0], axis=1)\n",
    "accident_df = accident_df.drop(accident_df.columns[0], axis=1)\n",
    "accident_location_df = accident_location_df.drop(accident_location_df.columns[0], axis=1)\n",
    "\n",
    "#remove unwanted columns  \n"
   ]
  },
  {
   "cell_type": "markdown",
   "metadata": {},
   "source": [
    "### creating dataframes for each year's accidents"
   ]
  },
  {
   "cell_type": "code",
   "execution_count": 151,
   "metadata": {},
   "outputs": [],
   "source": [
    "#converting accidentdate column to datetime format, for easier search\n",
    "main_df[\"ACCIDENTDATE\"] = pd.to_datetime(main_df[\"ACCIDENTDATE\"])\n",
    "#main_df[\"Year\"] = main_df[\"ACCIDENTDATE\"].dt.year\n",
    "\n",
    "#creating dataframes for each year's accidents\n",
    "main_2016_df = main_df[main_df[\"ACCIDENTDATE\"].dt.year == 2016]\n",
    "main_2017_df = main_df[main_df[\"ACCIDENTDATE\"].dt.year == 2017]\n",
    "main_2018_df = main_df[main_df[\"ACCIDENTDATE\"].dt.year == 2018]\n",
    "main_2019_df = main_df[main_df[\"ACCIDENTDATE\"].dt.year == 2019]\n",
    "main_2020_df = main_df[main_df[\"ACCIDENTDATE\"].dt.year == 2020]\n",
    "\n",
    "#sorting by date code\n",
    "main_2016_df.sort_values(by=[\"ACCIDENTDATE\"])\n",
    "main_2017_df.sort_values(by=[\"ACCIDENTDATE\"])\n",
    "main_2018_df.sort_values(by=[\"ACCIDENTDATE\"])\n",
    "main_2019_df.sort_values(by=[\"ACCIDENTDATE\"])\n",
    "main_2020_df.sort_values(by=[\"ACCIDENTDATE\"])\n",
    "\n",
    "\n",
    "# node dataframes based on year\n",
    "node_2016_df = node_df[node_df[\"ACCIDENT_NO\"].isin(main_2016_df[\"ACCIDENT_NO\"])]\n",
    "node_2017_df = node_df[node_df[\"ACCIDENT_NO\"].isin(main_2017_df[\"ACCIDENT_NO\"])]\n",
    "node_2018_df = node_df[node_df[\"ACCIDENT_NO\"].isin(main_2018_df[\"ACCIDENT_NO\"])]\n",
    "node_2019_df = node_df[node_df[\"ACCIDENT_NO\"].isin(main_2019_df[\"ACCIDENT_NO\"])]\n",
    "node_2020_df = node_df[node_df[\"ACCIDENT_NO\"].isin(main_2020_df[\"ACCIDENT_NO\"])]\n",
    "\n",
    "# accident location dataframes based on year\n",
    "\n",
    "accident_location_2016_df = accident_location_df[accident_location_df[\"ACCIDENT_NO\"].isin(main_2016_df[\"ACCIDENT_NO\"])]\n",
    "accident_location_2017_df = accident_location_df[accident_location_df[\"ACCIDENT_NO\"].isin(main_2017_df[\"ACCIDENT_NO\"])]\n",
    "accident_location_2018_df = accident_location_df[accident_location_df[\"ACCIDENT_NO\"].isin(main_2018_df[\"ACCIDENT_NO\"])]\n",
    "accident_location_2019_df = accident_location_df[accident_location_df[\"ACCIDENT_NO\"].isin(main_2019_df[\"ACCIDENT_NO\"])]\n",
    "accident_location_2020_df = accident_location_df[accident_location_df[\"ACCIDENT_NO\"].isin(main_2020_df[\"ACCIDENT_NO\"])]\n",
    "\n",
    "# accident  dataframes based on year\n",
    "accident_2016_df = accident_df[accident_df[\"ACCIDENT_NO\"].isin(main_2016_df[\"ACCIDENT_NO\"])]\n",
    "accident_2017_df = accident_df[accident_df[\"ACCIDENT_NO\"].isin(main_2017_df[\"ACCIDENT_NO\"])]\n",
    "accident_2018_df = accident_df[accident_df[\"ACCIDENT_NO\"].isin(main_2018_df[\"ACCIDENT_NO\"])]\n",
    "accident_2019_df = accident_df[accident_df[\"ACCIDENT_NO\"].isin(main_2019_df[\"ACCIDENT_NO\"])]\n",
    "accident_2020_df = accident_df[accident_df[\"ACCIDENT_NO\"].isin(main_2020_df[\"ACCIDENT_NO\"])]\n"
   ]
  },
  {
   "cell_type": "code",
   "execution_count": null,
   "metadata": {},
   "outputs": [],
   "source": [
    "count1 = main_2016_df[\"ACCIDENT_NO\"].count()\n",
    "node_count1 = accident_location_2016_df[\"ACCIDENT_NO\"].nunique()\n",
    "\n",
    "count2 = main_2017_df[\"ACCIDENT_NO\"].count()\n",
    "node_count2 = accident_location_2017_df[\"ACCIDENT_NO\"].nunique()\n",
    "\n",
    "count3 = main_2018_df[\"ACCIDENT_NO\"].count()\n",
    "node_count3 = node_2018_df[\"ACCIDENT_NO\"].nunique()\n",
    "\n",
    "count4 = main_2019_df[\"ACCIDENT_NO\"].count()\n",
    "node_count4 = node_2019_df[\"ACCIDENT_NO\"].nunique()\n",
    "\n",
    "count5 = main_2020_df[\"ACCIDENT_NO\"].count()\n",
    "node_count5 = accident_2020_df[\"ACCIDENT_NO\"].nunique()\n",
    "\n",
    "\n",
    "print(f\" Number of accidents in 2016: {count1} \")\n",
    "print(f\" Number of nodes in 2016: {node_count1} \")\n",
    "\n",
    "\n",
    "print(f\" Number of accidents in 2017: {count2} \")\n",
    "print(f\" Number of nodes in 2017: {node_count2} \")\n",
    "\n",
    "print(f\" Number of accidents in 2018: {count3} \")\n",
    "print(f\" Number of nodes in 2018: {node_count3} \")\n",
    "\n",
    "\n",
    "print(f\" Number of accidents in 2019: {count4} \")\n",
    "print(f\" Number of nodes in 2019: {node_count4} \")\n",
    "\n",
    "print(f\" Number of accidents in 2020: {count5} \")\n",
    "print(f\" Number of nodes in 2020: {node_count5} \")\n"
   ]
  },
  {
   "cell_type": "markdown",
   "metadata": {},
   "source": [
    "# postcode analysis\n"
   ]
  },
  {
   "cell_type": "code",
   "execution_count": 213,
   "metadata": {},
   "outputs": [
    {
     "data": {
      "image/png": "[encoded data removed]",
      "text/plain": [
       "<Figure size 432x288 with 1 Axes>"
      ]
     },
     "metadata": {
      "needs_background": "light"
     },
     "output_type": "display_data"
    },
    {
     "data": {
      "text/plain": [
       "POSTCODE_NO\n",
       "3000    330\n",
       "3175    311\n",
       "3977    207\n",
       "3350    161\n",
       "3121    156\n",
       "Name: ACCIDENT_NO, dtype: int64"
      ]
     },
     "execution_count": 213,
     "metadata": {},
     "output_type": "execute_result"
    }
   ],
   "source": [
    "\n",
    "\n",
    "#postcodes_2016 = node_2016_df.groupby(\"POSTCODE_NO\", as_index=True)[\"ACCIDENT_NO\"].count()\n",
    "top_postcodes_2016 = node_2016_df.groupby(\"POSTCODE_NO\", as_index=True)[\"ACCIDENT_NO\"].count()\n",
    "\n",
    "node_2016_df.groupby(\"POSTCODE_NO\", as_index=True)[\"ACCIDENT_NO\"].count().nlargest(10).plot(kind = \"bar\")\n",
    "\n",
    "\n",
    "plt.show()\n",
    "\n",
    "top_postcodes_2016.nlargest(5)"
   ]
  },
  {
   "cell_type": "markdown",
   "metadata": {},
   "source": [
    "### postcode analysis"
   ]
  },
  {
   "cell_type": "code",
   "execution_count": 153,
   "metadata": {},
   "outputs": [
    {
     "name": "stdout",
     "output_type": "stream",
     "text": [
      "3000    330\n",
      "3175    311\n",
      "3977    207\n",
      "3350    161\n",
      "3121    156\n",
      "Name: POSTCODE_NO, dtype: int64\n",
      "3000    291\n",
      "3175    238\n",
      "3350    174\n",
      "3030    171\n",
      "3977    171\n",
      "Name: POSTCODE_NO, dtype: int64\n",
      "3000    286\n",
      "3175    212\n",
      "3977    170\n",
      "3029    162\n",
      "3030    146\n",
      "Name: POSTCODE_NO, dtype: int64\n",
      "3175    271\n",
      "3000    271\n",
      "3977    212\n",
      "3029    193\n",
      "3030    193\n",
      "Name: POSTCODE_NO, dtype: int64\n",
      "3175    114\n",
      "3030    103\n",
      "3029     97\n",
      "3000     92\n",
      "3350     73\n",
      "Name: POSTCODE_NO, dtype: int64\n"
     ]
    }
   ],
   "source": [
    "print(node_2016_df[\"POSTCODE_NO\"].value_counts().head(5))\n",
    "print(node_2017_df[\"POSTCODE_NO\"].value_counts().head(5))\n",
    "print(node_2018_df[\"POSTCODE_NO\"].value_counts().head(5))\n",
    "print(node_2019_df[\"POSTCODE_NO\"].value_counts().head(5))\n",
    "print(node_2020_df[\"POSTCODE_NO\"].value_counts().head(5))\n",
    "\n"
   ]
  },
  {
   "cell_type": "markdown",
   "metadata": {},
   "source": [
    "# Year data\n",
    "\n"
   ]
  }
 ],
 "metadata": {
  "kernelspec": {
   "display_name": "Python 3.7.13 ('bootcamp')",
   "language": "python",
   "name": "python3"
  },
  "language_info": {
   "codemirror_mode": {
    "name": "ipython",
    "version": 3
   },
   "file_extension": ".py",
   "mimetype": "text/x-python",
   "name": "python",
   "nbconvert_exporter": "python",
   "pygments_lexer": "ipython3",
   "version": "3.7.13"
  },
  "orig_nbformat": 4,
  "vscode": {
   "interpreter": {
    "hash": "d3c3aa688ac86767ca0cc64da043c6600fa26f66b77c36d09bb4bee152a721f9"
   }
  }
 },
 "nbformat": 4,
 "nbformat_minor": 2
}
