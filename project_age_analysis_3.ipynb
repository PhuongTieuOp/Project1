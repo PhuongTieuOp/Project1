{
 "cells": [
  {
   "cell_type": "code",
   "execution_count": 115,
   "id": "274b249e",
   "metadata": {},
   "outputs": [],
   "source": [
    "import numpy as np\n",
    "import pandas as pd\n",
    "import matplotlib.pyplot as plt\n",
    "from datetime import datetime\n",
    "import csv"
   ]
  },
  {
   "cell_type": "code",
   "execution_count": 116,
   "id": "85a091f9",
   "metadata": {},
   "outputs": [],
   "source": [
    "# This is an analysis of trafic accident data - with respect to Age.\n",
    "# First import CSV files \n",
    "\n",
    "person_path='project_data/person_df.csv'"
   ]
  },
  {
   "cell_type": "code",
   "execution_count": 117,
   "id": "276a52a5",
   "metadata": {},
   "outputs": [
    {
     "name": "stderr",
     "output_type": "stream",
     "text": [
      "C:\\Users\\MOHAMMED\\anaconda3\\lib\\site-packages\\IPython\\core\\interactiveshell.py:3444: DtypeWarning: Columns (7,10,14) have mixed types.Specify dtype option on import or set low_memory=False.\n",
      "  exec(code_obj, self.user_global_ns, self.user_ns)\n"
     ]
    }
   ],
   "source": [
    "# Read CSV file\n",
    "\n",
    "person_df = pd.read_csv(person_path)"
   ]
  },
  {
   "cell_type": "code",
   "execution_count": 118,
   "id": "43a7a400",
   "metadata": {},
   "outputs": [
    {
     "data": {
      "text/html": [
       "<div>\n",
       "<style scoped>\n",
       "    .dataframe tbody tr th:only-of-type {\n",
       "        vertical-align: middle;\n",
       "    }\n",
       "\n",
       "    .dataframe tbody tr th {\n",
       "        vertical-align: top;\n",
       "    }\n",
       "\n",
       "    .dataframe thead th {\n",
       "        text-align: right;\n",
       "    }\n",
       "</style>\n",
       "<table border=\"1\" class=\"dataframe\">\n",
       "  <thead>\n",
       "    <tr style=\"text-align: right;\">\n",
       "      <th></th>\n",
       "      <th>ACCIDENT_NO</th>\n",
       "      <th>AGE</th>\n",
       "      <th>ROAD_USER_TYPE</th>\n",
       "      <th>INJ_LEVEL</th>\n",
       "    </tr>\n",
       "  </thead>\n",
       "  <tbody>\n",
       "    <tr>\n",
       "      <th>0</th>\n",
       "      <td>T20160000013</td>\n",
       "      <td>49.0</td>\n",
       "      <td>1</td>\n",
       "      <td>2</td>\n",
       "    </tr>\n",
       "    <tr>\n",
       "      <th>1</th>\n",
       "      <td>T20160000013</td>\n",
       "      <td>49.0</td>\n",
       "      <td>4</td>\n",
       "      <td>4</td>\n",
       "    </tr>\n",
       "    <tr>\n",
       "      <th>2</th>\n",
       "      <td>T20160000015</td>\n",
       "      <td>23.0</td>\n",
       "      <td>2</td>\n",
       "      <td>2</td>\n",
       "    </tr>\n",
       "    <tr>\n",
       "      <th>3</th>\n",
       "      <td>T20160000019</td>\n",
       "      <td>38.0</td>\n",
       "      <td>2</td>\n",
       "      <td>3</td>\n",
       "    </tr>\n",
       "    <tr>\n",
       "      <th>4</th>\n",
       "      <td>T20160000028</td>\n",
       "      <td>23.0</td>\n",
       "      <td>2</td>\n",
       "      <td>3</td>\n",
       "    </tr>\n",
       "    <tr>\n",
       "      <th>...</th>\n",
       "      <td>...</td>\n",
       "      <td>...</td>\n",
       "      <td>...</td>\n",
       "      <td>...</td>\n",
       "    </tr>\n",
       "    <tr>\n",
       "      <th>148368</th>\n",
       "      <td>T20200019247</td>\n",
       "      <td>21.0</td>\n",
       "      <td>2</td>\n",
       "      <td>2</td>\n",
       "    </tr>\n",
       "    <tr>\n",
       "      <th>148369</th>\n",
       "      <td>T20200019250</td>\n",
       "      <td>45.0</td>\n",
       "      <td>2</td>\n",
       "      <td>4</td>\n",
       "    </tr>\n",
       "    <tr>\n",
       "      <th>148370</th>\n",
       "      <td>T20200019250</td>\n",
       "      <td>56.0</td>\n",
       "      <td>4</td>\n",
       "      <td>2</td>\n",
       "    </tr>\n",
       "    <tr>\n",
       "      <th>148371</th>\n",
       "      <td>T20200019253</td>\n",
       "      <td>65.0</td>\n",
       "      <td>4</td>\n",
       "      <td>2</td>\n",
       "    </tr>\n",
       "    <tr>\n",
       "      <th>148372</th>\n",
       "      <td>T20200019417</td>\n",
       "      <td>20.0</td>\n",
       "      <td>2</td>\n",
       "      <td>2</td>\n",
       "    </tr>\n",
       "  </tbody>\n",
       "</table>\n",
       "<p>148373 rows × 4 columns</p>\n",
       "</div>"
      ],
      "text/plain": [
       "         ACCIDENT_NO   AGE  ROAD_USER_TYPE INJ_LEVEL\n",
       "0       T20160000013  49.0               1         2\n",
       "1       T20160000013  49.0               4         4\n",
       "2       T20160000015  23.0               2         2\n",
       "3       T20160000019  38.0               2         3\n",
       "4       T20160000028  23.0               2         3\n",
       "...              ...   ...             ...       ...\n",
       "148368  T20200019247  21.0               2         2\n",
       "148369  T20200019250  45.0               2         4\n",
       "148370  T20200019250  56.0               4         2\n",
       "148371  T20200019253  65.0               4         2\n",
       "148372  T20200019417  20.0               2         2\n",
       "\n",
       "[148373 rows x 4 columns]"
      ]
     },
     "execution_count": 118,
     "metadata": {},
     "output_type": "execute_result"
    }
   ],
   "source": [
    "# Simplify the person's dataframe to Age, Type of road user i.e Driver or Passenger\n",
    "# or Pedestrian or Motorcyclist etc. and injury level\n",
    "\n",
    "age_df = person_df[[\"ACCIDENT_NO\", \"AGE\",\"ROAD_USER_TYPE\",\"INJ_LEVEL\"]]\n",
    "age_df"
   ]
  },
  {
   "cell_type": "code",
   "execution_count": 119,
   "id": "cd4433e4",
   "metadata": {},
   "outputs": [
    {
     "data": {
      "text/html": [
       "<div>\n",
       "<style scoped>\n",
       "    .dataframe tbody tr th:only-of-type {\n",
       "        vertical-align: middle;\n",
       "    }\n",
       "\n",
       "    .dataframe tbody tr th {\n",
       "        vertical-align: top;\n",
       "    }\n",
       "\n",
       "    .dataframe thead th {\n",
       "        text-align: right;\n",
       "    }\n",
       "</style>\n",
       "<table border=\"1\" class=\"dataframe\">\n",
       "  <thead>\n",
       "    <tr style=\"text-align: right;\">\n",
       "      <th></th>\n",
       "      <th>ACCIDENT_NO</th>\n",
       "      <th>AGE</th>\n",
       "      <th>ROAD_USER_TYPE</th>\n",
       "      <th>INJ_LEVEL</th>\n",
       "    </tr>\n",
       "  </thead>\n",
       "  <tbody>\n",
       "    <tr>\n",
       "      <th>2</th>\n",
       "      <td>T20160000015</td>\n",
       "      <td>23.0</td>\n",
       "      <td>2</td>\n",
       "      <td>2</td>\n",
       "    </tr>\n",
       "    <tr>\n",
       "      <th>3</th>\n",
       "      <td>T20160000019</td>\n",
       "      <td>38.0</td>\n",
       "      <td>2</td>\n",
       "      <td>3</td>\n",
       "    </tr>\n",
       "    <tr>\n",
       "      <th>4</th>\n",
       "      <td>T20160000028</td>\n",
       "      <td>23.0</td>\n",
       "      <td>2</td>\n",
       "      <td>3</td>\n",
       "    </tr>\n",
       "    <tr>\n",
       "      <th>5</th>\n",
       "      <td>T20160000028</td>\n",
       "      <td>25.0</td>\n",
       "      <td>2</td>\n",
       "      <td>4</td>\n",
       "    </tr>\n",
       "    <tr>\n",
       "      <th>8</th>\n",
       "      <td>T20160000033</td>\n",
       "      <td>79.0</td>\n",
       "      <td>2</td>\n",
       "      <td>2</td>\n",
       "    </tr>\n",
       "    <tr>\n",
       "      <th>...</th>\n",
       "      <td>...</td>\n",
       "      <td>...</td>\n",
       "      <td>...</td>\n",
       "      <td>...</td>\n",
       "    </tr>\n",
       "    <tr>\n",
       "      <th>148361</th>\n",
       "      <td>T20200019195</td>\n",
       "      <td>40.0</td>\n",
       "      <td>2</td>\n",
       "      <td>4</td>\n",
       "    </tr>\n",
       "    <tr>\n",
       "      <th>148365</th>\n",
       "      <td>T20200019239</td>\n",
       "      <td>31.0</td>\n",
       "      <td>2</td>\n",
       "      <td>4</td>\n",
       "    </tr>\n",
       "    <tr>\n",
       "      <th>148368</th>\n",
       "      <td>T20200019247</td>\n",
       "      <td>21.0</td>\n",
       "      <td>2</td>\n",
       "      <td>2</td>\n",
       "    </tr>\n",
       "    <tr>\n",
       "      <th>148369</th>\n",
       "      <td>T20200019250</td>\n",
       "      <td>45.0</td>\n",
       "      <td>2</td>\n",
       "      <td>4</td>\n",
       "    </tr>\n",
       "    <tr>\n",
       "      <th>148372</th>\n",
       "      <td>T20200019417</td>\n",
       "      <td>20.0</td>\n",
       "      <td>2</td>\n",
       "      <td>2</td>\n",
       "    </tr>\n",
       "  </tbody>\n",
       "</table>\n",
       "<p>92689 rows × 4 columns</p>\n",
       "</div>"
      ],
      "text/plain": [
       "         ACCIDENT_NO   AGE  ROAD_USER_TYPE INJ_LEVEL\n",
       "2       T20160000015  23.0               2         2\n",
       "3       T20160000019  38.0               2         3\n",
       "4       T20160000028  23.0               2         3\n",
       "5       T20160000028  25.0               2         4\n",
       "8       T20160000033  79.0               2         2\n",
       "...              ...   ...             ...       ...\n",
       "148361  T20200019195  40.0               2         4\n",
       "148365  T20200019239  31.0               2         4\n",
       "148368  T20200019247  21.0               2         2\n",
       "148369  T20200019250  45.0               2         4\n",
       "148372  T20200019417  20.0               2         2\n",
       "\n",
       "[92689 rows x 4 columns]"
      ]
     },
     "execution_count": 119,
     "metadata": {},
     "output_type": "execute_result"
    }
   ],
   "source": [
    "# Select type 2 user, which are the drivers of the vehicles in accidents\n",
    "\n",
    "drivers_df=age_df[age_df['ROAD_USER_TYPE']==2]\n",
    "drivers_df"
   ]
  },
  {
   "cell_type": "code",
   "execution_count": 126,
   "id": "1d52b1e6",
   "metadata": {},
   "outputs": [
    {
     "data": {
      "text/html": [
       "<div>\n",
       "<style scoped>\n",
       "    .dataframe tbody tr th:only-of-type {\n",
       "        vertical-align: middle;\n",
       "    }\n",
       "\n",
       "    .dataframe tbody tr th {\n",
       "        vertical-align: top;\n",
       "    }\n",
       "\n",
       "    .dataframe thead th {\n",
       "        text-align: right;\n",
       "    }\n",
       "</style>\n",
       "<table border=\"1\" class=\"dataframe\">\n",
       "  <thead>\n",
       "    <tr style=\"text-align: right;\">\n",
       "      <th></th>\n",
       "      <th>ACCIDENT_NO</th>\n",
       "      <th>AGE</th>\n",
       "      <th>ROAD_USER_TYPE</th>\n",
       "      <th>INJ_LEVEL</th>\n",
       "    </tr>\n",
       "  </thead>\n",
       "  <tbody>\n",
       "    <tr>\n",
       "      <th>65540</th>\n",
       "      <td>T20170021968</td>\n",
       "      <td>49.0</td>\n",
       "      <td>2</td>\n",
       "      <td>1</td>\n",
       "    </tr>\n",
       "    <tr>\n",
       "      <th>65617</th>\n",
       "      <td>T20170022040</td>\n",
       "      <td>66.0</td>\n",
       "      <td>2</td>\n",
       "      <td>1</td>\n",
       "    </tr>\n",
       "    <tr>\n",
       "      <th>66105</th>\n",
       "      <td>T20170022393</td>\n",
       "      <td>37.0</td>\n",
       "      <td>2</td>\n",
       "      <td>1</td>\n",
       "    </tr>\n",
       "    <tr>\n",
       "      <th>66217</th>\n",
       "      <td>T20170022473</td>\n",
       "      <td>50.0</td>\n",
       "      <td>2</td>\n",
       "      <td>1</td>\n",
       "    </tr>\n",
       "    <tr>\n",
       "      <th>66275</th>\n",
       "      <td>T20170022514</td>\n",
       "      <td>18.0</td>\n",
       "      <td>2</td>\n",
       "      <td>1</td>\n",
       "    </tr>\n",
       "    <tr>\n",
       "      <th>...</th>\n",
       "      <td>...</td>\n",
       "      <td>...</td>\n",
       "      <td>...</td>\n",
       "      <td>...</td>\n",
       "    </tr>\n",
       "    <tr>\n",
       "      <th>148144</th>\n",
       "      <td>T20200017372</td>\n",
       "      <td>46.0</td>\n",
       "      <td>2</td>\n",
       "      <td>1</td>\n",
       "    </tr>\n",
       "    <tr>\n",
       "      <th>148244</th>\n",
       "      <td>T20200018096</td>\n",
       "      <td>21.0</td>\n",
       "      <td>2</td>\n",
       "      <td>1</td>\n",
       "    </tr>\n",
       "    <tr>\n",
       "      <th>148281</th>\n",
       "      <td>T20200018319</td>\n",
       "      <td>87.0</td>\n",
       "      <td>2</td>\n",
       "      <td>1</td>\n",
       "    </tr>\n",
       "    <tr>\n",
       "      <th>148299</th>\n",
       "      <td>T20200018424</td>\n",
       "      <td>19.0</td>\n",
       "      <td>2</td>\n",
       "      <td>1</td>\n",
       "    </tr>\n",
       "    <tr>\n",
       "      <th>148303</th>\n",
       "      <td>T20200018425</td>\n",
       "      <td>72.0</td>\n",
       "      <td>2</td>\n",
       "      <td>1</td>\n",
       "    </tr>\n",
       "  </tbody>\n",
       "</table>\n",
       "<p>199 rows × 4 columns</p>\n",
       "</div>"
      ],
      "text/plain": [
       "         ACCIDENT_NO   AGE  ROAD_USER_TYPE INJ_LEVEL\n",
       "65540   T20170021968  49.0               2         1\n",
       "65617   T20170022040  66.0               2         1\n",
       "66105   T20170022393  37.0               2         1\n",
       "66217   T20170022473  50.0               2         1\n",
       "66275   T20170022514  18.0               2         1\n",
       "...              ...   ...             ...       ...\n",
       "148144  T20200017372  46.0               2         1\n",
       "148244  T20200018096  21.0               2         1\n",
       "148281  T20200018319  87.0               2         1\n",
       "148299  T20200018424  19.0               2         1\n",
       "148303  T20200018425  72.0               2         1\n",
       "\n",
       "[199 rows x 4 columns]"
      ]
     },
     "execution_count": 126,
     "metadata": {},
     "output_type": "execute_result"
    }
   ],
   "source": [
    "# Select the Severity of the injury - 1 being death and 2 being serious injury and\n",
    "# 3 being non-serious injury and 4 being no injury.\n",
    "\n",
    "death_df=drivers_df[drivers_df['INJ_LEVEL']==1]\n",
    "death_df"
   ]
  },
  {
   "cell_type": "code",
   "execution_count": 145,
   "id": "25cd014c",
   "metadata": {},
   "outputs": [
    {
     "name": "stdout",
     "output_type": "stream",
     "text": [
      "[17.5, 22.5, 27.5, 32.5, 37.5, 42.5, 47.5, 52.5, 57.5, 62.5, 67.5, 72.5, 77.5] [6839, 14505, 13556, 11907, 10388, 9458, 9149, 7852, 6866, 5444, 4198, 3137, 2268]\n"
     ]
    }
   ],
   "source": [
    "# Drivers count\n",
    "\n",
    "x=[]\n",
    "count=[]\n",
    "\n",
    "for i in range(15,80,5):\n",
    "        j=(2*i+5)/2\n",
    "        x.append(j)\n",
    "        z=drivers_df[drivers_df['AGE'].between(i,i+5)].count()['AGE']\n",
    "        count.append(z)\n",
    "\n",
    "\n",
    "print(x,count)"
   ]
  },
  {
   "cell_type": "code",
   "execution_count": 146,
   "id": "fdeee2aa",
   "metadata": {},
   "outputs": [
    {
     "data": {
      "image/png": "[encoded data removed]",
      "text/plain": [
       "<Figure size 432x288 with 1 Axes>"
      ]
     },
     "metadata": {
      "needs_background": "light"
     },
     "output_type": "display_data"
    }
   ],
   "source": [
    "plt.bar(x,count,color='green')\n",
    "plt.xlabel(\"Ages of Drivers\",color='blue')\n",
    "plt.ylabel(\"Count of Drivers\",color='purple')\n",
    "plt.title(\"COUNT OF DRIVERS IN ACCIDENTS\",color='brown')\n",
    "\n",
    "plt.show()"
   ]
  },
  {
   "cell_type": "code",
   "execution_count": 147,
   "id": "b6d2d7fc",
   "metadata": {},
   "outputs": [
    {
     "name": "stdout",
     "output_type": "stream",
     "text": [
      "[17.5, 22.5, 27.5, 32.5, 37.5, 42.5, 47.5, 52.5, 57.5, 62.5, 67.5, 72.5, 77.5] [12, 20, 29, 26, 26, 15, 11, 13, 13, 13, 11, 12, 14]\n"
     ]
    }
   ],
   "source": [
    " # Fatality count\n",
    "\n",
    "x1=[]\n",
    "count1=[]\n",
    "\n",
    "for i in range(15,80,5):\n",
    "        j=(2*i+5)/2\n",
    "        x1.append(j)\n",
    "        z1=death_df[death_df['AGE'].between(i,i+5)].count()['AGE']\n",
    "        count1.append(z1)\n",
    "\n",
    "\n",
    "print(x1,count1)\n",
    "# plt.bar(x1,count1)\n",
    "# plt.show()"
   ]
  },
  {
   "cell_type": "code",
   "execution_count": 152,
   "id": "6513d96f",
   "metadata": {},
   "outputs": [
    {
     "data": {
      "image/png": "[encoded data removed]",
      "text/plain": [
       "<Figure size 432x288 with 1 Axes>"
      ]
     },
     "metadata": {
      "needs_background": "light"
     },
     "output_type": "display_data"
    }
   ],
   "source": [
    "plt.bar(x1,count1,color='red')\n",
    "plt.xlabel(\"Ages of Drivers\",color='blue')\n",
    "plt.ylabel(\"Fatality Count\",color='purple')\n",
    "plt.title(\"FATALITY COUNT PER AGE GROUP\",color='brown')\n",
    "\n",
    "plt.show()"
   ]
  },
  {
   "cell_type": "code",
   "execution_count": 138,
   "id": "e00d6be3",
   "metadata": {},
   "outputs": [
    {
     "name": "stdout",
     "output_type": "stream",
     "text": [
      "[17.5, 22.5, 27.5, 32.5, 37.5, 42.5, 47.5, 52.5, 57.5, 62.5, 67.5, 72.5, 77.5] [17.54642491592338, 13.788348845225784, 21.392741221599294, 21.83589485176787, 25.028879476318828, 15.859589765278072, 12.023171931358618, 16.556291390728475, 18.93387707544422, 23.87950036737693, 26.202953787517863, 38.25310806503028, 61.72839506172839]\n"
     ]
    }
   ],
   "source": [
    "# Actual impact of Age on Fatalities\n",
    "\n",
    "count2=[]\n",
    "\n",
    "for i in range(0,13):\n",
    "    p=(count1[i]/count[i])*10000\n",
    "    count2.append(p)\n",
    "    \n",
    "    \n",
    "print(x1,count2) \n"
   ]
  },
  {
   "cell_type": "code",
   "execution_count": 153,
   "id": "8fda66e6",
   "metadata": {},
   "outputs": [
    {
     "data": {
      "image/png": "[encoded data removed]",
      "text/plain": [
       "<Figure size 432x288 with 1 Axes>"
      ]
     },
     "metadata": {
      "needs_background": "light"
     },
     "output_type": "display_data"
    }
   ],
   "source": [
    "plt.bar(x1,count2,color='orange')\n",
    "plt.xlabel(\"Ages of Drivers\",color='blue')\n",
    "plt.ylabel(\"%Squared of injury WRT to age group\",color='purple')\n",
    "plt.title(\"IMPACT OF AGE ON FATALITY\",color='brown')\n",
    "\n",
    "plt.show()"
   ]
  },
  {
   "cell_type": "code",
   "execution_count": 132,
   "id": "1c7940b4",
   "metadata": {},
   "outputs": [
    {
     "data": {
      "text/html": [
       "<div>\n",
       "<style scoped>\n",
       "    .dataframe tbody tr th:only-of-type {\n",
       "        vertical-align: middle;\n",
       "    }\n",
       "\n",
       "    .dataframe tbody tr th {\n",
       "        vertical-align: top;\n",
       "    }\n",
       "\n",
       "    .dataframe thead th {\n",
       "        text-align: right;\n",
       "    }\n",
       "</style>\n",
       "<table border=\"1\" class=\"dataframe\">\n",
       "  <thead>\n",
       "    <tr style=\"text-align: right;\">\n",
       "      <th></th>\n",
       "      <th>ACCIDENT_NO</th>\n",
       "      <th>AGE</th>\n",
       "      <th>ROAD_USER_TYPE</th>\n",
       "      <th>INJ_LEVEL</th>\n",
       "    </tr>\n",
       "  </thead>\n",
       "  <tbody>\n",
       "    <tr>\n",
       "      <th>65538</th>\n",
       "      <td>T20170021958</td>\n",
       "      <td>22.0</td>\n",
       "      <td>2</td>\n",
       "      <td>2</td>\n",
       "    </tr>\n",
       "    <tr>\n",
       "      <th>65541</th>\n",
       "      <td>T20170021968</td>\n",
       "      <td>33.0</td>\n",
       "      <td>2</td>\n",
       "      <td>2</td>\n",
       "    </tr>\n",
       "    <tr>\n",
       "      <th>65542</th>\n",
       "      <td>T20170021970</td>\n",
       "      <td>20.0</td>\n",
       "      <td>2</td>\n",
       "      <td>2</td>\n",
       "    </tr>\n",
       "    <tr>\n",
       "      <th>65551</th>\n",
       "      <td>T20170021976</td>\n",
       "      <td>28.0</td>\n",
       "      <td>2</td>\n",
       "      <td>2</td>\n",
       "    </tr>\n",
       "    <tr>\n",
       "      <th>65605</th>\n",
       "      <td>T20170022029</td>\n",
       "      <td>28.0</td>\n",
       "      <td>2</td>\n",
       "      <td>2</td>\n",
       "    </tr>\n",
       "    <tr>\n",
       "      <th>...</th>\n",
       "      <td>...</td>\n",
       "      <td>...</td>\n",
       "      <td>...</td>\n",
       "      <td>...</td>\n",
       "    </tr>\n",
       "    <tr>\n",
       "      <th>148351</th>\n",
       "      <td>T20200018982</td>\n",
       "      <td>55.0</td>\n",
       "      <td>2</td>\n",
       "      <td>2</td>\n",
       "    </tr>\n",
       "    <tr>\n",
       "      <th>148354</th>\n",
       "      <td>T20200019031</td>\n",
       "      <td>62.0</td>\n",
       "      <td>2</td>\n",
       "      <td>2</td>\n",
       "    </tr>\n",
       "    <tr>\n",
       "      <th>148356</th>\n",
       "      <td>T20200019069</td>\n",
       "      <td>24.0</td>\n",
       "      <td>2</td>\n",
       "      <td>2</td>\n",
       "    </tr>\n",
       "    <tr>\n",
       "      <th>148368</th>\n",
       "      <td>T20200019247</td>\n",
       "      <td>21.0</td>\n",
       "      <td>2</td>\n",
       "      <td>2</td>\n",
       "    </tr>\n",
       "    <tr>\n",
       "      <th>148372</th>\n",
       "      <td>T20200019417</td>\n",
       "      <td>20.0</td>\n",
       "      <td>2</td>\n",
       "      <td>2</td>\n",
       "    </tr>\n",
       "  </tbody>\n",
       "</table>\n",
       "<p>3397 rows × 4 columns</p>\n",
       "</div>"
      ],
      "text/plain": [
       "         ACCIDENT_NO   AGE  ROAD_USER_TYPE INJ_LEVEL\n",
       "65538   T20170021958  22.0               2         2\n",
       "65541   T20170021968  33.0               2         2\n",
       "65542   T20170021970  20.0               2         2\n",
       "65551   T20170021976  28.0               2         2\n",
       "65605   T20170022029  28.0               2         2\n",
       "...              ...   ...             ...       ...\n",
       "148351  T20200018982  55.0               2         2\n",
       "148354  T20200019031  62.0               2         2\n",
       "148356  T20200019069  24.0               2         2\n",
       "148368  T20200019247  21.0               2         2\n",
       "148372  T20200019417  20.0               2         2\n",
       "\n",
       "[3397 rows x 4 columns]"
      ]
     },
     "execution_count": 132,
     "metadata": {},
     "output_type": "execute_result"
    }
   ],
   "source": [
    "# Serious injury dataframe\n",
    "\n",
    "seriousinjury_df=drivers_df[drivers_df['INJ_LEVEL']==2]\n",
    "seriousinjury_df"
   ]
  },
  {
   "cell_type": "code",
   "execution_count": 149,
   "id": "e1297d69",
   "metadata": {},
   "outputs": [
    {
     "name": "stdout",
     "output_type": "stream",
     "text": [
      "[17.5, 22.5, 27.5, 32.5, 37.5, 42.5, 47.5, 52.5, 57.5, 62.5, 67.5, 72.5, 77.5] [306, 532, 448, 384, 297, 290, 308, 272, 260, 232, 210, 179, 160]\n"
     ]
    }
   ],
   "source": [
    "# Serious Injury Count\n",
    "\n",
    "x3=[]\n",
    "count3=[]\n",
    "\n",
    "for i in range(15,80,5):\n",
    "        j=(2*i+5)/2\n",
    "        x3.append(j)\n",
    "        z2=seriousinjury_df[seriousinjury_df['AGE'].between(i,i+5)].count()['AGE']\n",
    "        count3.append(z2)\n",
    "\n",
    "\n",
    "print(x3,count3)\n",
    "# plt.bar(x3,count3)\n",
    "# plt.show()"
   ]
  },
  {
   "cell_type": "code",
   "execution_count": 154,
   "id": "4e8ed188",
   "metadata": {},
   "outputs": [
    {
     "data": {
      "image/png": "[encoded data removed]",
      "text/plain": [
       "<Figure size 432x288 with 1 Axes>"
      ]
     },
     "metadata": {
      "needs_background": "light"
     },
     "output_type": "display_data"
    }
   ],
   "source": [
    "plt.bar(x3,count3,color='red')\n",
    "plt.xlabel(\"Ages of Drivers\",color='blue')\n",
    "plt.ylabel(\"Serious Injury Count\",color='purple')\n",
    "plt.title(\"SERIOUS INJURY COUNT PER AGE GROUP\",color='brown')\n",
    "\n",
    "plt.show()"
   ]
  },
  {
   "cell_type": "code",
   "execution_count": 143,
   "id": "1abb9669",
   "metadata": {},
   "outputs": [
    {
     "name": "stdout",
     "output_type": "stream",
     "text": [
      "[17.5, 22.5, 27.5, 32.5, 37.5, 42.5, 47.5, 52.5, 57.5, 62.5, 67.5, 72.5, 77.5] [447.4338353560462, 366.7700792830059, 330.4809678371201, 322.49937011841774, 285.90681555641123, 306.6187354620427, 336.6488140780413, 346.4085583290882, 378.67754150888436, 426.157237325496, 500.23820867079564, 570.608861970035, 705.4673721340388]\n"
     ]
    }
   ],
   "source": [
    "# Actual impact of Age on Serious Injuries\n",
    "\n",
    "count4=[]\n",
    "\n",
    "for i in range(0,13):\n",
    "    p=(count3[i]/count[i])*10000\n",
    "    count4.append(p)\n",
    "    \n",
    "    \n",
    "print(x3,count4) "
   ]
  },
  {
   "cell_type": "code",
   "execution_count": 155,
   "id": "7bc13b41",
   "metadata": {},
   "outputs": [
    {
     "data": {
      "image/png": "[encoded data removed]",
      "text/plain": [
       "<Figure size 432x288 with 1 Axes>"
      ]
     },
     "metadata": {
      "needs_background": "light"
     },
     "output_type": "display_data"
    }
   ],
   "source": [
    "plt.bar(x3,count4,color='orange')\n",
    "plt.xlabel(\"Ages of Drivers\",color='blue')\n",
    "plt.ylabel(\"%Squared of injury WRT to age group\",color='purple')\n",
    "plt.title(\"IMPACT OF AGE ON SERIOUS INJURY\",color='brown')\n",
    "\n",
    "plt.show()"
   ]
  },
  {
   "cell_type": "code",
   "execution_count": null,
   "id": "50b41f41",
   "metadata": {},
   "outputs": [],
   "source": []
  }
 ],
 "metadata": {
  "kernelspec": {
   "display_name": "Python 3 (ipykernel)",
   "language": "python",
   "name": "python3"
  },
  "language_info": {
   "codemirror_mode": {
    "name": "ipython",
    "version": 3
   },
   "file_extension": ".py",
   "mimetype": "text/x-python",
   "name": "python",
   "nbconvert_exporter": "python",
   "pygments_lexer": "ipython3",
   "version": "3.9.7"
  }
 },
 "nbformat": 4,
 "nbformat_minor": 5
}
